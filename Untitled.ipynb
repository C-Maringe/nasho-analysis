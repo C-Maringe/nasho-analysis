{
 "cells": [
  {
   "cell_type": "code",
   "execution_count": 1,
   "id": "ebeb9fbb",
   "metadata": {},
   "outputs": [],
   "source": [
    "## importing libraries to carry out the analysis\n",
    "\n",
    "import numpy as np\n",
    "import pandas as pd\n",
    "from sklearn.datasets import make_regression\n",
    "import statsmodels.api as sm\n",
    "\n",
    "import seaborn as sns\n",
    "import matplotlib.pyplot as plt\n",
    "from sklearn.preprocessing import LabelEncoder\n",
    "import warnings\n",
    "# Ignore all warnings\n",
    "warnings.filterwarnings('ignore')"
   ]
  },
  {
   "cell_type": "code",
   "execution_count": 2,
   "id": "9abf603a",
   "metadata": {},
   "outputs": [],
   "source": [
    "# Defining column names\n",
    "\n",
    "field_columns = ['x1','x2','x3','y']"
   ]
  },
  {
   "cell_type": "code",
   "execution_count": 98,
   "id": "51963df0",
   "metadata": {},
   "outputs": [
    {
     "name": "stdout",
     "output_type": "stream",
     "text": [
      "                            OLS Regression Results                            \n",
      "==============================================================================\n",
      "Dep. Variable:                      y   R-squared:                       0.246\n",
      "Model:                            OLS   Adj. R-squared:                  0.191\n",
      "Method:                 Least Squares   F-statistic:                     4.468\n",
      "Date:                Sun, 28 May 2023   Prob (F-statistic):            0.00835\n",
      "Time:                        21:34:19   Log-Likelihood:                 41.447\n",
      "No. Observations:                  45   AIC:                            -74.89\n",
      "Df Residuals:                      41   BIC:                            -67.67\n",
      "Df Model:                           3                                         \n",
      "Covariance Type:            nonrobust                                         \n",
      "==============================================================================\n",
      "                 coef    std err          t      P>|t|      [0.025      0.975]\n",
      "------------------------------------------------------------------------------\n",
      "const          0.0616      0.029      2.100      0.042       0.002       0.121\n",
      "x1             0.0992      0.031      3.246      0.002       0.037       0.161\n",
      "x2             0.0401      0.030      1.318      0.195      -0.021       0.102\n",
      "x3             0.0286      0.031      0.921      0.363      -0.034       0.091\n",
      "==============================================================================\n",
      "Omnibus:                        0.799   Durbin-Watson:                   1.500\n",
      "Prob(Omnibus):                  0.671   Jarque-Bera (JB):                0.877\n",
      "Skew:                           0.273   Prob(JB):                        0.645\n",
      "Kurtosis:                       2.588   Cond. No.                         3.67\n",
      "==============================================================================\n",
      "\n",
      "Notes:\n",
      "[1] Standard Errors assume that the covariance matrix of the errors is correctly specified.\n"
     ]
    }
   ],
   "source": [
    "X, y = make_regression(n_samples=45, n_features=3, n_informative=3, n_targets=1, noise=8, random_state=555)\n",
    "X_scaled = ((X - np.min(X, axis=0)) / (np.max(X, axis=0) - np.min(X, axis=0))).round(0)\n",
    "y_scaled = (y - np.min(y, axis=0)) / (np.max(y, axis=0) - np.min(y, axis=0))\n",
    "df = pd.DataFrame(np.column_stack((X_scaled[:,0], X_scaled[:,1], X_scaled[:,2], y_scaled)), columns=field_columns)\n",
    "# ind = df.drop('y',axis=1).round(0)\n",
    "# dep = df['y']\n",
    "# df = ind\n",
    "# df['y'] = dep\n",
    "def mask_number(number):\n",
    "    if number > 0.35:\n",
    "        if (number - 0.35) > 0.35:\n",
    "            return (number - 0.35 - 0.35)\n",
    "        else :\n",
    "            return (number - 0.35)\n",
    "    else :\n",
    "        return number\n",
    "df['y'] = df['y'].apply(mask_number)\n",
    "X = df.drop('y',axis=1)\n",
    "y = df['y']\n",
    "print(sm.OLS(y, sm.add_constant(X)).fit().summary())"
   ]
  },
  {
   "cell_type": "code",
   "execution_count": 99,
   "id": "55ea672d",
   "metadata": {},
   "outputs": [
    {
     "data": {
      "text/html": [
       "<div>\n",
       "<style scoped>\n",
       "    .dataframe tbody tr th:only-of-type {\n",
       "        vertical-align: middle;\n",
       "    }\n",
       "\n",
       "    .dataframe tbody tr th {\n",
       "        vertical-align: top;\n",
       "    }\n",
       "\n",
       "    .dataframe thead th {\n",
       "        text-align: right;\n",
       "    }\n",
       "</style>\n",
       "<table border=\"1\" class=\"dataframe\">\n",
       "  <thead>\n",
       "    <tr style=\"text-align: right;\">\n",
       "      <th></th>\n",
       "      <th>x1</th>\n",
       "      <th>x2</th>\n",
       "      <th>x3</th>\n",
       "      <th>y</th>\n",
       "    </tr>\n",
       "  </thead>\n",
       "  <tbody>\n",
       "    <tr>\n",
       "      <th>0</th>\n",
       "      <td>1.0</td>\n",
       "      <td>1.0</td>\n",
       "      <td>0.0</td>\n",
       "      <td>0.063693</td>\n",
       "    </tr>\n",
       "    <tr>\n",
       "      <th>1</th>\n",
       "      <td>0.0</td>\n",
       "      <td>0.0</td>\n",
       "      <td>1.0</td>\n",
       "      <td>0.050584</td>\n",
       "    </tr>\n",
       "    <tr>\n",
       "      <th>2</th>\n",
       "      <td>0.0</td>\n",
       "      <td>1.0</td>\n",
       "      <td>0.0</td>\n",
       "      <td>0.050238</td>\n",
       "    </tr>\n",
       "    <tr>\n",
       "      <th>3</th>\n",
       "      <td>1.0</td>\n",
       "      <td>1.0</td>\n",
       "      <td>0.0</td>\n",
       "      <td>0.010455</td>\n",
       "    </tr>\n",
       "    <tr>\n",
       "      <th>4</th>\n",
       "      <td>0.0</td>\n",
       "      <td>0.0</td>\n",
       "      <td>0.0</td>\n",
       "      <td>0.028513</td>\n",
       "    </tr>\n",
       "  </tbody>\n",
       "</table>\n",
       "</div>"
      ],
      "text/plain": [
       "    x1   x2   x3         y\n",
       "0  1.0  1.0  0.0  0.063693\n",
       "1  0.0  0.0  1.0  0.050584\n",
       "2  0.0  1.0  0.0  0.050238\n",
       "3  1.0  1.0  0.0  0.010455\n",
       "4  0.0  0.0  0.0  0.028513"
      ]
     },
     "execution_count": 99,
     "metadata": {},
     "output_type": "execute_result"
    }
   ],
   "source": [
    "df.to_excel('data_0-35.xlsx')\n",
    "df.head()"
   ]
  },
  {
   "cell_type": "code",
   "execution_count": 11,
   "id": "63dc052d",
   "metadata": {},
   "outputs": [],
   "source": [
    "ind = df.drop('y',axis=1).round(0)\n",
    "dep = df['y']"
   ]
  },
  {
   "cell_type": "code",
   "execution_count": 12,
   "id": "bfba3c8a",
   "metadata": {},
   "outputs": [
    {
     "data": {
      "text/html": [
       "<div>\n",
       "<style scoped>\n",
       "    .dataframe tbody tr th:only-of-type {\n",
       "        vertical-align: middle;\n",
       "    }\n",
       "\n",
       "    .dataframe tbody tr th {\n",
       "        vertical-align: top;\n",
       "    }\n",
       "\n",
       "    .dataframe thead th {\n",
       "        text-align: right;\n",
       "    }\n",
       "</style>\n",
       "<table border=\"1\" class=\"dataframe\">\n",
       "  <thead>\n",
       "    <tr style=\"text-align: right;\">\n",
       "      <th></th>\n",
       "      <th>x1</th>\n",
       "      <th>x2</th>\n",
       "      <th>x3</th>\n",
       "      <th>y</th>\n",
       "    </tr>\n",
       "  </thead>\n",
       "  <tbody>\n",
       "    <tr>\n",
       "      <th>0</th>\n",
       "      <td>1.0</td>\n",
       "      <td>1.0</td>\n",
       "      <td>1.0</td>\n",
       "      <td>0.797317</td>\n",
       "    </tr>\n",
       "    <tr>\n",
       "      <th>1</th>\n",
       "      <td>1.0</td>\n",
       "      <td>0.0</td>\n",
       "      <td>1.0</td>\n",
       "      <td>0.903403</td>\n",
       "    </tr>\n",
       "    <tr>\n",
       "      <th>2</th>\n",
       "      <td>1.0</td>\n",
       "      <td>1.0</td>\n",
       "      <td>0.0</td>\n",
       "      <td>0.363521</td>\n",
       "    </tr>\n",
       "    <tr>\n",
       "      <th>3</th>\n",
       "      <td>0.0</td>\n",
       "      <td>0.0</td>\n",
       "      <td>0.0</td>\n",
       "      <td>0.379308</td>\n",
       "    </tr>\n",
       "    <tr>\n",
       "      <th>4</th>\n",
       "      <td>0.0</td>\n",
       "      <td>1.0</td>\n",
       "      <td>0.0</td>\n",
       "      <td>0.031193</td>\n",
       "    </tr>\n",
       "  </tbody>\n",
       "</table>\n",
       "</div>"
      ],
      "text/plain": [
       "    x1   x2   x3         y\n",
       "0  1.0  1.0  1.0  0.797317\n",
       "1  1.0  0.0  1.0  0.903403\n",
       "2  1.0  1.0  0.0  0.363521\n",
       "3  0.0  0.0  0.0  0.379308\n",
       "4  0.0  1.0  0.0  0.031193"
      ]
     },
     "execution_count": 12,
     "metadata": {},
     "output_type": "execute_result"
    }
   ],
   "source": [
    "df = ind\n",
    "df['y'] = dep\n",
    "df.head()"
   ]
  },
  {
   "cell_type": "code",
   "execution_count": 13,
   "id": "ff9c020a",
   "metadata": {},
   "outputs": [],
   "source": [
    "def mask_number(number):\n",
    "    if number > 0.35:\n",
    "        if (number - 0.35) > 0.35:\n",
    "            return (number - 0.35 - 0.35)\n",
    "        else :\n",
    "            return (number - 0.35)\n",
    "    else :\n",
    "        return number\n",
    "    \n",
    "df['y'] = df['y'].apply(mask_number)"
   ]
  },
  {
   "cell_type": "code",
   "execution_count": 14,
   "id": "89281db5",
   "metadata": {},
   "outputs": [
    {
     "data": {
      "text/html": [
       "<div>\n",
       "<style scoped>\n",
       "    .dataframe tbody tr th:only-of-type {\n",
       "        vertical-align: middle;\n",
       "    }\n",
       "\n",
       "    .dataframe tbody tr th {\n",
       "        vertical-align: top;\n",
       "    }\n",
       "\n",
       "    .dataframe thead th {\n",
       "        text-align: right;\n",
       "    }\n",
       "</style>\n",
       "<table border=\"1\" class=\"dataframe\">\n",
       "  <thead>\n",
       "    <tr style=\"text-align: right;\">\n",
       "      <th></th>\n",
       "      <th>x1</th>\n",
       "      <th>x2</th>\n",
       "      <th>x3</th>\n",
       "      <th>y</th>\n",
       "    </tr>\n",
       "  </thead>\n",
       "  <tbody>\n",
       "    <tr>\n",
       "      <th>0</th>\n",
       "      <td>1.0</td>\n",
       "      <td>1.0</td>\n",
       "      <td>1.0</td>\n",
       "      <td>0.097317</td>\n",
       "    </tr>\n",
       "    <tr>\n",
       "      <th>1</th>\n",
       "      <td>1.0</td>\n",
       "      <td>0.0</td>\n",
       "      <td>1.0</td>\n",
       "      <td>0.203403</td>\n",
       "    </tr>\n",
       "    <tr>\n",
       "      <th>2</th>\n",
       "      <td>1.0</td>\n",
       "      <td>1.0</td>\n",
       "      <td>0.0</td>\n",
       "      <td>0.013521</td>\n",
       "    </tr>\n",
       "    <tr>\n",
       "      <th>3</th>\n",
       "      <td>0.0</td>\n",
       "      <td>0.0</td>\n",
       "      <td>0.0</td>\n",
       "      <td>0.029308</td>\n",
       "    </tr>\n",
       "    <tr>\n",
       "      <th>4</th>\n",
       "      <td>0.0</td>\n",
       "      <td>1.0</td>\n",
       "      <td>0.0</td>\n",
       "      <td>0.031193</td>\n",
       "    </tr>\n",
       "  </tbody>\n",
       "</table>\n",
       "</div>"
      ],
      "text/plain": [
       "    x1   x2   x3         y\n",
       "0  1.0  1.0  1.0  0.097317\n",
       "1  1.0  0.0  1.0  0.203403\n",
       "2  1.0  1.0  0.0  0.013521\n",
       "3  0.0  0.0  0.0  0.029308\n",
       "4  0.0  1.0  0.0  0.031193"
      ]
     },
     "execution_count": 14,
     "metadata": {},
     "output_type": "execute_result"
    }
   ],
   "source": [
    "df.head()"
   ]
  },
  {
   "cell_type": "code",
   "execution_count": null,
   "id": "bca90d15",
   "metadata": {},
   "outputs": [],
   "source": []
  },
  {
   "cell_type": "code",
   "execution_count": 15,
   "id": "8bb009f6",
   "metadata": {},
   "outputs": [
    {
     "name": "stdout",
     "output_type": "stream",
     "text": [
      "                            OLS Regression Results                            \n",
      "==============================================================================\n",
      "Dep. Variable:                      y   R-squared:                       0.012\n",
      "Model:                            OLS   Adj. R-squared:                 -0.060\n",
      "Method:                 Least Squares   F-statistic:                    0.1684\n",
      "Date:                Sun, 28 May 2023   Prob (F-statistic):              0.917\n",
      "Time:                        21:01:52   Log-Likelihood:                 35.554\n",
      "No. Observations:                  45   AIC:                            -63.11\n",
      "Df Residuals:                      41   BIC:                            -55.88\n",
      "Df Model:                           3                                         \n",
      "Covariance Type:            nonrobust                                         \n",
      "==============================================================================\n",
      "                 coef    std err          t      P>|t|      [0.025      0.975]\n",
      "------------------------------------------------------------------------------\n",
      "const          0.1628      0.032      5.141      0.000       0.099       0.227\n",
      "x1             0.0064      0.035      0.183      0.856      -0.064       0.077\n",
      "x2             0.0027      0.035      0.078      0.938      -0.067       0.073\n",
      "x3            -0.0245      0.036     -0.684      0.498      -0.097       0.048\n",
      "==============================================================================\n",
      "Omnibus:                        9.961   Durbin-Watson:                   2.207\n",
      "Prob(Omnibus):                  0.007   Jarque-Bera (JB):                2.818\n",
      "Skew:                           0.139   Prob(JB):                        0.244\n",
      "Kurtosis:                       1.806   Cond. No.                         3.42\n",
      "==============================================================================\n",
      "\n",
      "Notes:\n",
      "[1] Standard Errors assume that the covariance matrix of the errors is correctly specified.\n"
     ]
    }
   ],
   "source": [
    "X = df.drop('y',axis=1)\n",
    "y = df['y']\n",
    "X = sm.add_constant(X)\n",
    "model = sm.OLS(y, X).fit()\n",
    "r_squared = model.rsquared\n",
    "print(model.summary())"
   ]
  },
  {
   "cell_type": "code",
   "execution_count": 402,
   "id": "c23de99b",
   "metadata": {},
   "outputs": [],
   "source": [
    "df.to_excel('data_xy.xlsx')"
   ]
  },
  {
   "cell_type": "code",
   "execution_count": 401,
   "id": "24ae07f1",
   "metadata": {},
   "outputs": [
    {
     "data": {
      "text/plain": [
       "<AxesSubplot:>"
      ]
     },
     "execution_count": 401,
     "metadata": {},
     "output_type": "execute_result"
    },
    {
     "data": {
      "image/png": "[encoded data removed]",
      "text/plain": [
       "<Figure size 1152x648 with 2 Axes>"
      ]
     },
     "metadata": {
      "needs_background": "light"
     },
     "output_type": "display_data"
    }
   ],
   "source": [
    "plt.figure(figsize=(16,9))\n",
    "sns.heatmap(df.corr(),annot=True)"
   ]
  },
  {
   "cell_type": "code",
   "execution_count": null,
   "id": "cdb3e989",
   "metadata": {},
   "outputs": [],
   "source": []
  }
 ],
 "metadata": {
  "kernelspec": {
   "display_name": "Python 3 (ipykernel)",
   "language": "python",
   "name": "python3"
  },
  "language_info": {
   "codemirror_mode": {
    "name": "ipython",
    "version": 3
   },
   "file_extension": ".py",
   "mimetype": "text/x-python",
   "name": "python",
   "nbconvert_exporter": "python",
   "pygments_lexer": "ipython3",
   "version": "3.9.12"
  }
 },
 "nbformat": 4,
 "nbformat_minor": 5
}
